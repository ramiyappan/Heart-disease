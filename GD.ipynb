{
 "cells": [
  {
   "cell_type": "markdown",
   "id": "7091f07d",
   "metadata": {},
   "source": [
    "# Imports"
   ]
  },
  {
   "cell_type": "code",
   "execution_count": 1,
   "id": "5d5c094e",
   "metadata": {},
   "outputs": [],
   "source": [
    "%matplotlib inline\n",
    "import pandas as pd\n",
    "import numpy as np\n",
    "import matplotlib.pyplot as plt\n",
    "from sklearn.metrics import accuracy_score\n",
    "from sklearn.preprocessing import StandardScaler\n",
    "from sklearn.linear_model import LogisticRegression"
   ]
  },
  {
   "cell_type": "markdown",
   "id": "973b38e2",
   "metadata": {},
   "source": [
    "# Get Data"
   ]
  },
  {
   "cell_type": "code",
   "execution_count": 2,
   "id": "7f2c7141",
   "metadata": {},
   "outputs": [
    {
     "name": "stdout",
     "output_type": "stream",
     "text": [
      "number of training examples in dataset:  152\n",
      "number of features in dataset:  13\n"
     ]
    }
   ],
   "source": [
    "train_data = pd.read_csv(\"1644871288_9762487_cleveland-train.csv\")\n",
    "\n",
    "x = train_data.iloc[:,:-1].values #extracting all features to x\n",
    "y = train_data.iloc[:,-1].values #extracting all output labels(-1,+1) to y\n",
    "y[y==-1]=0\n",
    "\n",
    "print(\"number of training examples in dataset: \",x.shape[0])\n",
    "print(\"number of features in dataset: \",x.shape[1])"
   ]
  },
  {
   "cell_type": "markdown",
   "id": "b198ca0d",
   "metadata": {},
   "source": [
    "# Add Feature for weight0"
   ]
  },
  {
   "cell_type": "code",
   "execution_count": 3,
   "id": "696d2356",
   "metadata": {},
   "outputs": [
    {
     "data": {
      "text/plain": [
       "array([[  1. ,  67. ,   1. ,   4. , 120. , 229. ,   0. ,   2. , 129. ,\n",
       "          1. ,   2.6,   2. ,   2. ,   7. ],\n",
       "       [  1. ,  37. ,   1. ,   3. , 130. , 250. ,   0. ,   0. , 187. ,\n",
       "          0. ,   3.5,   3. ,   0. ,   3. ],\n",
       "       [  1. ,  56. ,   1. ,   2. , 120. , 236. ,   0. ,   0. , 178. ,\n",
       "          0. ,   0.8,   1. ,   0. ,   3. ],\n",
       "       [  1. ,  57. ,   0. ,   4. , 120. , 354. ,   0. ,   0. , 163. ,\n",
       "          1. ,   0.6,   1. ,   0. ,   3. ],\n",
       "       [  1. ,  63. ,   1. ,   4. , 130. , 254. ,   0. ,   2. , 147. ,\n",
       "          0. ,   1.4,   2. ,   1. ,   7. ]])"
      ]
     },
     "execution_count": 3,
     "metadata": {},
     "output_type": "execute_result"
    }
   ],
   "source": [
    "z = np.ones(x.shape[0])\n",
    "z = z.reshape(x.shape[0],1)\n",
    "\n",
    "x = np.append(z,x,axis=1)\n",
    "x[0:5]"
   ]
  },
  {
   "cell_type": "markdown",
   "id": "16b6f494",
   "metadata": {},
   "source": [
    "# Functions"
   ]
  },
  {
   "cell_type": "code",
   "execution_count": 4,
   "id": "49d2fbff",
   "metadata": {},
   "outputs": [],
   "source": [
    "def hypothesis(x,w): # Hypothesis function for Logistic Regression\n",
    "    Z = np.matmul(x,w)\n",
    "    return (1.0 / (1 + np.exp(-Z)))\n",
    "\n",
    "def get_cost(y, y_hat): # Cross-entropy error or Cost Function\n",
    "    return - np.sum(np.dot(y.T,np.log(y_hat + 1e-10)) + np.dot((1 - y).T,np.log(1 - y_hat + 1e-10))) / (len(y))\n",
    "\n",
    "def update_weight(w , y , y_hat, x, alpha): # updating weights at every step\n",
    "    dw = np.dot((y_hat - y), x) / len(y)\n",
    "    w_new = w - alpha * dw\n",
    "    return w_new, dw\n",
    "\n",
    "def predict(x,w):    #predicting class +1 or -1 based on hypothesis probability\n",
    "    y_predicted = hypothesis(x,w)\n",
    "    y_predicted_cls = [1 if i>=0.5 else -1 for i in y_predicted]\n",
    "    return y_predicted_cls"
   ]
  },
  {
   "cell_type": "markdown",
   "id": "345f0c0e",
   "metadata": {},
   "source": [
    "# Gradient Descent"
   ]
  },
  {
   "cell_type": "code",
   "execution_count": 5,
   "id": "5427f0b0",
   "metadata": {},
   "outputs": [
    {
     "name": "stdout",
     "output_type": "stream",
     "text": [
      "initial guess of weights:  [1. 1. 1. 1. 1. 1. 1. 1. 1. 1. 1. 1. 1. 1.]\n",
      "Final estimates of weights are:  [ 0.98226563 -0.11446842  0.97355664  0.91720768  0.00145873 -0.00252495\n",
      "  0.98258467  0.98151409 -0.0429977   0.98866838  0.92837913  0.94853683\n",
      "  0.98220696  0.80918581]\n",
      "Cost when loop ends:  0.6098175136729922\n",
      "Wall time: 1.07 s\n"
     ]
    }
   ],
   "source": [
    "%%time\n",
    "num_iterations = 10000 #check with 10k,100k & 1M iterations\n",
    "alpha = 10e-5\n",
    "\n",
    "all_costs = []\n",
    "w = np.ones(x.shape[1]) #initializing all weights to 1's\n",
    "print(\"initial guess of weights: \", w)\n",
    "\n",
    "for each_iter in range (num_iterations):\n",
    "    y_hat = hypothesis(x,w)\n",
    "    current_cost = get_cost(y, y_hat)\n",
    "    prev_w = w\n",
    "    w, dw = update_weight(prev_w, y, y_hat, x, alpha)\n",
    "    if all(dw < 10e-3): #terminate when gradient<10e-3\n",
    "        i_exit = each_iter\n",
    "        break\n",
    "    all_costs.append(current_cost)\n",
    "    #print('Iteration: ', each_iter, 'Cost: ', current_cost) #un-comment this line to print values for each iteration\n",
    "    \n",
    "print(\"Final estimates of weights are: \",w)\n",
    "print(\"Cost when loop ends: \",current_cost)"
   ]
  },
  {
   "cell_type": "markdown",
   "id": "c294d09e",
   "metadata": {},
   "source": [
    "# Plotting to check for convergence"
   ]
  },
  {
   "cell_type": "code",
   "execution_count": 6,
   "id": "cd960ee8",
   "metadata": {},
   "outputs": [
    {
     "data": {
      "text/plain": [
       "Text(0.5, 1.0, 'Iterations vs Cost Function')"
      ]
     },
     "execution_count": 6,
     "metadata": {},
     "output_type": "execute_result"
    },
    {
     "data": {
      "image/png": "[encoded data removed]",
      "text/plain": [
       "<Figure size 432x288 with 1 Axes>"
      ]
     },
     "metadata": {
      "needs_background": "light"
     },
     "output_type": "display_data"
    }
   ],
   "source": [
    "loop = range(0,num_iterations)    #use i_exit when iterations=1M\n",
    "plt.plot(loop,all_costs,'r-')\n",
    "plt.xlabel('number of iterations')\n",
    "plt.ylabel('Cost')\n",
    "plt.title('Iterations vs Cost Function')"
   ]
  },
  {
   "cell_type": "markdown",
   "id": "f2cbafaa",
   "metadata": {},
   "source": [
    "# Predicting Class for Train Data"
   ]
  },
  {
   "cell_type": "code",
   "execution_count": 7,
   "id": "cb2ea513",
   "metadata": {},
   "outputs": [
    {
     "name": "stdout",
     "output_type": "stream",
     "text": [
      "[1, 1, -1, -1, 1, -1, -1, -1, -1, -1, 1, -1, -1, -1, -1, -1, 1, 1, -1, -1, 1, -1, -1, 1, -1, -1, 1, -1, -1, -1, -1, -1, 1, 1, 1, 1, 1, 1, 1, 1, -1, 1, -1, 1, 1, 1, -1, -1, -1, 1, -1, 1, 1, 1, 1, 1, -1, -1, -1, 1, -1, 1, 1, 1, -1, -1, 1, 1, -1, 1, -1, -1, -1, 1, -1, 1, 1, -1, -1, -1, 1, 1, -1, 1, 1, 1, 1, 1, -1, 1, -1, 1, -1, -1, 1, -1, -1, -1, -1, 1, -1, -1, -1, 1, 1, -1, -1, -1, -1, -1, -1, 1, -1, 1, -1, -1, -1, -1, -1, -1, 1, 1, 1, 1, 1, -1, -1, -1, -1, -1, -1, -1, 1, 1, -1, 1, 1, -1, -1, -1, -1, -1, 1, -1, -1, 1, -1, -1, 1, 1, 1, -1]\n"
     ]
    }
   ],
   "source": [
    "predicted_cls = predict(x,w)\n",
    "print(predicted_cls)"
   ]
  },
  {
   "cell_type": "markdown",
   "id": "43161867",
   "metadata": {},
   "source": [
    "# Checking Accuracy and Classification error on Train Data"
   ]
  },
  {
   "cell_type": "code",
   "execution_count": 8,
   "id": "7fed5a8b",
   "metadata": {},
   "outputs": [
    {
     "name": "stdout",
     "output_type": "stream",
     "text": [
      "---Training Data---\n",
      "Accuracy =  0.7894736842105263 \n",
      "Training or Classification error =  0.21052631578947367\n"
     ]
    }
   ],
   "source": [
    "temp_data = pd.read_csv(\"1644871288_9762487_cleveland-train.csv\")\n",
    "Y_true = temp_data.iloc[:,-1].values #extracting all output labels(-1,+1) to y\n",
    "\n",
    "acc = accuracy_score(Y_true, predicted_cls)\n",
    "print(\"---Training Data---\")\n",
    "print(\"Accuracy = \",acc,\"\\nTraining or Classification error = \",1-acc)"
   ]
  },
  {
   "cell_type": "markdown",
   "id": "57882268",
   "metadata": {},
   "source": [
    "# Logistic Regression using Sklearn"
   ]
  },
  {
   "cell_type": "code",
   "execution_count": 9,
   "id": "b7dd618b",
   "metadata": {},
   "outputs": [
    {
     "name": "stdout",
     "output_type": "stream",
     "text": [
      "Accuracy by sklearn :  0.8223684210526315\n",
      "Wall time: 419 ms\n"
     ]
    }
   ],
   "source": [
    "%%time\n",
    "lreg = LogisticRegression(solver='lbfgs', max_iter=10000)\n",
    "lmodel = lreg.fit(x, Y_true)\n",
    "\n",
    "print(\"Accuracy by sklearn : \",accuracy_score(Y_true,lreg.predict(x)))"
   ]
  },
  {
   "cell_type": "markdown",
   "id": "0da6ab21",
   "metadata": {},
   "source": [
    "# Predicting class for Test Data"
   ]
  },
  {
   "cell_type": "code",
   "execution_count": 10,
   "id": "1f9e586e",
   "metadata": {},
   "outputs": [],
   "source": [
    "test_data = pd.read_csv(\"1644871288_9775174_cleveland-test.csv\")\n",
    "X_test = test_data.iloc[:,:].values\n",
    "\n",
    "zt = np.ones(X_test.shape[0])\n",
    "zt = zt.reshape(X_test.shape[0],1)\n",
    "X_test = np.append(zt,X_test,axis=1)\n",
    "\n",
    "test_predicted = predict(X_test,w)\n",
    "\n",
    "file = open(\"GD.dat\",\"w\", encoding='utf-8')\n",
    "for i in test_predicted:\n",
    "    file.write(str(i)+'\\n')"
   ]
  },
  {
   "cell_type": "markdown",
   "id": "b9f83301",
   "metadata": {},
   "source": [
    "# Scaling features in Training Data"
   ]
  },
  {
   "cell_type": "code",
   "execution_count": 11,
   "id": "6abcddf8",
   "metadata": {},
   "outputs": [
    {
     "data": {
      "text/plain": [
       "array([ 0.        ,  1.3984336 ,  0.72111026,  0.90330002, -0.59276951,\n",
       "       -0.36833381, -0.38924947,  1.0931468 , -0.87672194,  1.64539268,\n",
       "        1.47329663,  0.69963115,  1.49009161,  1.13265251])"
      ]
     },
     "execution_count": 11,
     "metadata": {},
     "output_type": "execute_result"
    }
   ],
   "source": [
    "train_data_S = pd.read_csv(\"1644871288_9762487_cleveland-train.csv\")\n",
    "\n",
    "X = train_data_S.iloc[:,:-1].values #extracting all features to x\n",
    "Y = train_data_S.iloc[:,-1].values #extracting all output labels(-1,+1) to y\n",
    "Y[Y==-1]=0\n",
    "\n",
    "Z = np.ones(X.shape[0])\n",
    "Z = Z.reshape(X.shape[0],1)\n",
    "X = np.append(Z,X,axis=1)\n",
    "\n",
    "scalar = StandardScaler()\n",
    "X_Scale = scalar.fit_transform(X)\n",
    "\n",
    "X_Scale[0]"
   ]
  },
  {
   "cell_type": "markdown",
   "id": "b2b45da7",
   "metadata": {},
   "source": [
    "# Gradient Descent After Scaling"
   ]
  },
  {
   "cell_type": "code",
   "execution_count": 12,
   "id": "effcc8b9",
   "metadata": {},
   "outputs": [
    {
     "name": "stdout",
     "output_type": "stream",
     "text": [
      "initial guess of weights:  [1. 1. 1. 1. 1. 1. 1. 1. 1. 1. 1. 1. 1. 1.]\n",
      "Final estimates of weights are:  [ 1.         -0.22296576  0.41021805  0.50400684  0.46435642  0.11475695\n",
      " -0.34602908  0.32190158 -0.34830171  0.32095515  0.19898775  0.22845957\n",
      "  1.02018847  0.50669513]\n",
      "Number of iterations:  16331 \n",
      "Final Cost when loop ends:  0.4147157717642218\n",
      "Wall time: 1.68 s\n"
     ]
    }
   ],
   "source": [
    "%%time\n",
    "num_iter = 1000000\n",
    "lr = 10e-3    #check with 10e-3,10e-4,10e-5\n",
    "\n",
    "all_costs_S = []\n",
    "w_Scale = np.ones(X_Scale.shape[1])\n",
    "print(\"initial guess of weights: \", w_Scale)\n",
    "\n",
    "for iter in range (num_iter):\n",
    "    y_hat_S = hypothesis(X_Scale,w_Scale)\n",
    "    current_cost_S = get_cost(Y, y_hat_S)\n",
    "    prev_w_S = w_Scale\n",
    "    w_Scale, dw_S = update_weight(prev_w_S, Y, y_hat_S, X_Scale, lr)\n",
    "    if all(dw_S < 10e-6):\n",
    "        i_no = iter\n",
    "        break\n",
    "    all_costs_S.append(current_cost_S)\n",
    "    #print('Iteration: ', iter, 'Cost: ', current_cost_S)\n",
    "    \n",
    "print(\"Final estimates of weights are: \",w_Scale)\n",
    "print(\"Number of iterations: \",i_no+1,\"\\nFinal Cost when loop ends: \",current_cost_S)"
   ]
  },
  {
   "cell_type": "markdown",
   "id": "f97d3eca",
   "metadata": {},
   "source": [
    "# Plotting to check for convergence"
   ]
  },
  {
   "cell_type": "code",
   "execution_count": 13,
   "id": "6b6e9c2c",
   "metadata": {},
   "outputs": [
    {
     "data": {
      "text/plain": [
       "Text(0.5, 1.0, 'Iterations vs Cost Function')"
      ]
     },
     "execution_count": 13,
     "metadata": {},
     "output_type": "execute_result"
    },
    {
     "data": {
      "image/png": "[encoded data removed]",
      "text/plain": [
       "<Figure size 432x288 with 1 Axes>"
      ]
     },
     "metadata": {
      "needs_background": "light"
     },
     "output_type": "display_data"
    }
   ],
   "source": [
    "loop1 = range(0,i_no)\n",
    "plt.plot(loop1,all_costs_S,'r-')\n",
    "plt.xlabel('number of iterations')\n",
    "plt.ylabel('Cost')\n",
    "plt.title('Iterations vs Cost Function')"
   ]
  },
  {
   "cell_type": "markdown",
   "id": "1fbef07c",
   "metadata": {},
   "source": [
    "# Accuracy & Error after Scaling"
   ]
  },
  {
   "cell_type": "code",
   "execution_count": 14,
   "id": "50255b4f",
   "metadata": {},
   "outputs": [
    {
     "name": "stdout",
     "output_type": "stream",
     "text": [
      "---After Scaling---\n",
      "Accuracy =  0.8157894736842105 \n",
      "Training or Classification error =  0.1842105263157895\n"
     ]
    }
   ],
   "source": [
    "predicted_cls_S = predict(X_Scale,w_Scale)\n",
    "\n",
    "temp_data1 = pd.read_csv(\"1644871288_9762487_cleveland-train.csv\")\n",
    "Y_Scale = temp_data1.iloc[:,-1].values \n",
    "\n",
    "acc_S = accuracy_score(Y_Scale, predicted_cls_S)\n",
    "print(\"---After Scaling---\")\n",
    "print(\"Accuracy = \",acc_S,\"\\nTraining or Classification error = \",1-acc_S)"
   ]
  }
 ],
 "metadata": {
  "kernelspec": {
   "display_name": "Python 3.10.7 64-bit (microsoft store)",
   "language": "python",
   "name": "python3"
  },
  "language_info": {
   "codemirror_mode": {
    "name": "ipython",
    "version": 3
   },
   "file_extension": ".py",
   "mimetype": "text/x-python",
   "name": "python",
   "nbconvert_exporter": "python",
   "pygments_lexer": "ipython3",
   "version": "3.10.7"
  },
  "vscode": {
   "interpreter": {
    "hash": "502b735065de89421cf10aeafff594534290c9e1d6b63be991b466e4f41e3464"
   }
  }
 },
 "nbformat": 4,
 "nbformat_minor": 5
}
